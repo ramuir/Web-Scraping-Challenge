{
 "metadata": {
  "language_info": {
   "codemirror_mode": {
    "name": "ipython",
    "version": 3
   },
   "file_extension": ".py",
   "mimetype": "text/x-python",
   "name": "python",
   "nbconvert_exporter": "python",
   "pygments_lexer": "ipython3",
   "version": "3.6.10-final"
  },
  "orig_nbformat": 2,
  "kernelspec": {
   "name": "Python 3.6.10 64-bit ('bcs': conda)",
   "display_name": "Python 3.6.10 64-bit ('bcs': conda)",
   "metadata": {
    "interpreter": {
     "hash": "8980c95ba0cda56c67b2f45ffb86ee4cd2bd4d728b2eb108f531dcdbe6ff1b95"
    }
   }
  }
 },
 "nbformat": 4,
 "nbformat_minor": 2,
 "cells": [
  {
   "cell_type": "code",
   "execution_count": 2,
   "metadata": {},
   "outputs": [],
   "source": [
    "# Dependencies\n",
    "from splinter import Browser\n",
    "import pandas as pd\n",
    "from bs4 import BeautifulSoup as bs\n",
    "import requests"
   ]
  },
  {
   "cell_type": "code",
   "execution_count": 130,
   "metadata": {},
   "outputs": [],
   "source": [
    "executable_path = {'executable_path': 'chromedriver.exe'}\n",
    "browser = Browser('chrome', **executable_path, headless=False)"
   ]
  },
  {
   "cell_type": "code",
   "execution_count": 131,
   "metadata": {},
   "outputs": [],
   "source": [
    "# URL of page to be scraped\n",
    "url = \"https://mars.nasa.gov/news/?page=0&per_page=40&order=publish_date+desc%2Ccreated_at+desc&search=&category=19%2C165%2C184%2C204&blank_scope=Latest\"\n",
    "\n",
    "browser.visit(url)"
   ]
  },
  {
   "cell_type": "code",
   "execution_count": 137,
   "metadata": {},
   "outputs": [],
   "source": [
    "html = browser.html\n",
    "soup = bs(html, 'html.parser')"
   ]
  },
  {
   "cell_type": "code",
   "execution_count": 139,
   "metadata": {
    "tags": []
   },
   "outputs": [
    {
     "output_type": "execute_result",
     "data": {
      "text/plain": [
       "\"October 27, 2020NASA's Perseverance Rover Is Midway to Mars Sometimes half measures can be a good thing – especially on a journey this long. The agency's latest rover only has about 146 million miles left to reach its destination.\""
      ]
     },
     "metadata": {},
     "execution_count": 139
    }
   ],
   "source": [
    "# find the title\n",
    "title_options = soup.find_all('div', class_='list_text')\n",
    "news_title = title_options[0].a.text\n",
    "print(news_title)\n",
    "#find paragraph\n",
    "paragraph_options = soup.find_all('div', class_='list_text')\n",
    "news_p = paragraph_options[0].get_text()\n",
    "print(news_p)"
   ]
  },
  {
   "cell_type": "code",
   "execution_count": 141,
   "metadata": {},
   "outputs": [],
   "source": [
    "\n",
    "executable_path = {'executable_path': 'chromedriver.exe'}\n",
    "browser = Browser('chrome', **executable_path, headless=False)\n",
    "\n",
    "# URL of page to be scraped\n",
    "\n",
    "url_jpl = 'https://www.jpl.nasa.gov/spaceimages/?search=&category=Mars'\n",
    "\n",
    "browser.visit(url_jpl)\n",
    "\n",
    "html = browser.html\n",
    "soup = bs(html, 'html.parser')"
   ]
  },
  {
   "cell_type": "code",
   "execution_count": 166,
   "metadata": {
    "tags": []
   },
   "outputs": [
    {
     "output_type": "execute_result",
     "data": {
      "text/plain": [
       "'jpl.nasa.gov/spaceimages/images/wallpaper/PIA24182-640x350.jpg'"
      ]
     },
     "metadata": {},
     "execution_count": 166
    }
   ],
   "source": [
    "featured_image_url = 'jpl.nasa.gov' + soup.find('img', alt ='Crater Rim Channels')['src'] \n",
    "\n",
    "featured_image_url"
   ]
  },
  {
   "cell_type": "code",
   "execution_count": 49,
   "metadata": {
    "tags": []
   },
   "outputs": [
    {
     "output_type": "stream",
     "name": "stdout",
     "text": [
      "               Variable                          Value\n0  Equatorial Diameter:                       6,792 km\n1       Polar Diameter:                       6,752 km\n2                 Mass:  6.39 × 10^23 kg (0.11 Earths)\n3                Moons:            2 (Phobos & Deimos)\n4       Orbit Distance:       227,943,824 km (1.38 AU)\n5         Orbit Period:           687 days (1.9 years)\n6  Surface Temperature:                   -87 to -5 °C\n7         First Record:              2nd millennium BC\n8          Recorded By:           Egyptian astronomers\n"
     ]
    }
   ],
   "source": [
    "url_3 = 'https://space-facts.com/mars/'\n",
    "tables = pd.read_html(url_3)\n",
    "mars_df = tables[0]\n",
    "mars_df.columns=['Variable', 'Value']\n",
    "print(mars_df)"
   ]
  },
  {
   "cell_type": "code",
   "execution_count": 14,
   "metadata": {},
   "outputs": [
    {
     "output_type": "stream",
     "name": "stdout",
     "text": [
      "<table border=\"1\" class=\"dataframe\">\n  <thead>\n    <tr style=\"text-align: right;\">\n      <th></th>\n      <th>0</th>\n      <th>1</th>\n    </tr>\n  </thead>\n  <tbody>\n    <tr>\n      <th>0</th>\n      <td>Equatorial Diameter:</td>\n      <td>6,792 km</td>\n    </tr>\n    <tr>\n      <th>1</th>\n      <td>Polar Diameter:</td>\n      <td>6,752 km</td>\n    </tr>\n    <tr>\n      <th>2</th>\n      <td>Mass:</td>\n      <td>6.39 × 10^23 kg (0.11 Earths)</td>\n    </tr>\n    <tr>\n      <th>3</th>\n      <td>Moons:</td>\n      <td>2 (Phobos &amp; Deimos)</td>\n    </tr>\n    <tr>\n      <th>4</th>\n      <td>Orbit Distance:</td>\n      <td>227,943,824 km (1.38 AU)</td>\n    </tr>\n    <tr>\n      <th>5</th>\n      <td>Orbit Period:</td>\n      <td>687 days (1.9 years)</td>\n    </tr>\n    <tr>\n      <th>6</th>\n      <td>Surface Temperature:</td>\n      <td>-87 to -5 °C</td>\n    </tr>\n    <tr>\n      <th>7</th>\n      <td>First Record:</td>\n      <td>2nd millennium BC</td>\n    </tr>\n    <tr>\n      <th>8</th>\n      <td>Recorded By:</td>\n      <td>Egyptian astronomers</td>\n    </tr>\n  </tbody>\n</table>\n"
     ]
    }
   ],
   "source": [
    "mars_to_html = mars_df.to_html()\n",
    "print(mars_to_html)\n",
    "# mars_to_html.replace('\\n', '')"
   ]
  },
  {
   "cell_type": "code",
   "execution_count": 17,
   "metadata": {},
   "outputs": [],
   "source": [
    "executable_path = {'executable_path': 'chromedriver.exe'}\n",
    "browser = Browser('chrome', **executable_path, headless=False)\n",
    "\n",
    "# URL of page to be scraped\n",
    "\n",
    "url_mars_img = 'https://astrogeology.usgs.gov/search/results?q=hemisphere+enhanced&k1=target&v1=Mars'\n",
    "\n",
    "browser.visit(url_mars_img)\n",
    "\n",
    "html = browser.html\n",
    "soup = bs(html, 'html.parser')"
   ]
  },
  {
   "cell_type": "code",
   "execution_count": null,
   "metadata": {},
   "outputs": [],
   "source": []
  },
  {
   "cell_type": "code",
   "execution_count": 103,
   "metadata": {},
   "outputs": [
    {
     "output_type": "execute_result",
     "data": {
      "text/plain": [
       "['Cerberus Hemisphere Enhanced',\n",
       " 'Schiaparelli Hemisphere Enhanced',\n",
       " 'Syrtis Major Hemisphere Enhanced',\n",
       " 'Valles Marineris Hemisphere Enhanced']"
      ]
     },
     "metadata": {},
     "execution_count": 103
    }
   ],
   "source": [
    "#get titles\n",
    "hemisphere_titles = []\n",
    "all_titles = soup.find_all('div', class_='collapsible results')\n",
    "title = all_titles[0].find_all('h3')\n",
    "title\n",
    "for i in title:\n",
    "    hemisphere_titles.append(i.text)\n",
    "\n",
    "hemisphere_titles"
   ]
  },
  {
   "cell_type": "code",
   "execution_count": 104,
   "metadata": {},
   "outputs": [
    {
     "output_type": "execute_result",
     "data": {
      "text/plain": [
       "['https://astroleology.usgs.gov//search/map/Mars/Viking/cerberus_enhanced',\n",
       " 'https://astroleology.usgs.gov//search/map/Mars/Viking/schiaparelli_enhanced',\n",
       " 'https://astroleology.usgs.gov//search/map/Mars/Viking/syrtis_major_enhanced',\n",
       " 'https://astroleology.usgs.gov//search/map/Mars/Viking/valles_marineris_enhanced']"
      ]
     },
     "metadata": {},
     "execution_count": 104
    }
   ],
   "source": [
    "#find urls\n",
    "img_group = all_titles[0].find_all('a')\n",
    "img_links = []\n",
    "\n",
    "for img in img_group:\n",
    "    if(img.img):\n",
    "        img_url = 'https://astroleology.usgs.gov/' + img['href']\n",
    "\n",
    "        img_links.append(img_url)\n",
    "img_links"
   ]
  },
  {
   "cell_type": "code",
   "execution_count": 117,
   "metadata": {},
   "outputs": [
    {
     "output_type": "execute_result",
     "data": {
      "text/plain": [
       "                                 titles  \\\n",
       "0          Cerberus Hemisphere Enhanced   \n",
       "0      Schiaparelli Hemisphere Enhanced   \n",
       "0      Syrtis Major Hemisphere Enhanced   \n",
       "0  Valles Marineris Hemisphere Enhanced   \n",
       "\n",
       "                                           image_url  \n",
       "0  https://astroleology.usgs.gov//search/map/Mars...  \n",
       "0  https://astroleology.usgs.gov//search/map/Mars...  \n",
       "0  https://astroleology.usgs.gov//search/map/Mars...  \n",
       "0  https://astroleology.usgs.gov//search/map/Mars...  "
      ],
      "text/html": "<div>\n<style scoped>\n    .dataframe tbody tr th:only-of-type {\n        vertical-align: middle;\n    }\n\n    .dataframe tbody tr th {\n        vertical-align: top;\n    }\n\n    .dataframe thead th {\n        text-align: right;\n    }\n</style>\n<table border=\"1\" class=\"dataframe\">\n  <thead>\n    <tr style=\"text-align: right;\">\n      <th></th>\n      <th>titles</th>\n      <th>image_url</th>\n    </tr>\n  </thead>\n  <tbody>\n    <tr>\n      <th>0</th>\n      <td>Cerberus Hemisphere Enhanced</td>\n      <td>https://astroleology.usgs.gov//search/map/Mars...</td>\n    </tr>\n    <tr>\n      <th>0</th>\n      <td>Schiaparelli Hemisphere Enhanced</td>\n      <td>https://astroleology.usgs.gov//search/map/Mars...</td>\n    </tr>\n    <tr>\n      <th>0</th>\n      <td>Syrtis Major Hemisphere Enhanced</td>\n      <td>https://astroleology.usgs.gov//search/map/Mars...</td>\n    </tr>\n    <tr>\n      <th>0</th>\n      <td>Valles Marineris Hemisphere Enhanced</td>\n      <td>https://astroleology.usgs.gov//search/map/Mars...</td>\n    </tr>\n  </tbody>\n</table>\n</div>"
     },
     "metadata": {},
     "execution_count": 117
    }
   ],
   "source": [
    "#place in dict\n",
    "hemisphere_image_urls = pd.DataFrame({\n",
    "        'titles': [],\n",
    "        'image_url': []\n",
    "    })\n",
    "\n",
    "for place in range(len(img_links)):\n",
    "    hemisphere_singles = pd.DataFrame({\n",
    "        'titles': [hemisphere_titles[place]],\n",
    "        'image_url': [img_links[place]]\n",
    "    })\n",
    "    hemisphere_image_urls = hemisphere_image_urls.append(hemisphere_singles)\n",
    "    \n",
    "hemisphere_image_urls"
   ]
  },
  {
   "cell_type": "code",
   "execution_count": null,
   "metadata": {},
   "outputs": [],
   "source": []
  },
  {
   "cell_type": "code",
   "execution_count": 117,
   "metadata": {},
   "outputs": [],
   "source": [
    "\n",
    "\n",
    "  \n"
   ]
  },
  {
   "cell_type": "code",
   "execution_count": null,
   "metadata": {},
   "outputs": [],
   "source": []
  }
 ]
}